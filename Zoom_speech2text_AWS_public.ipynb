{
  "nbformat": 4,
  "nbformat_minor": 0,
  "metadata": {
    "colab": {
      "name": "Zoom_speech2text_AWS_public.ipynb",
      "provenance": [],
      "collapsed_sections": [],
      "authorship_tag": "ABX9TyOSIpb+gOMKxYlsgF6yDy0p",
      "include_colab_link": true
    },
    "kernelspec": {
      "name": "python3",
      "display_name": "Python 3"
    },
    "language_info": {
      "name": "python"
    }
  },
  "cells": [
    {
      "cell_type": "markdown",
      "metadata": {
        "id": "view-in-github",
        "colab_type": "text"
      },
      "source": [
        "<a href=\"https://colab.research.google.com/github/kgautam2103/Zoom_speech2text_AWS_public/blob/main/Zoom_speech2text_AWS_public.ipynb\" target=\"_parent\"><img src=\"https://colab.research.google.com/assets/colab-badge.svg\" alt=\"Open In Colab\"/></a>"
      ]
    },
    {
      "cell_type": "code",
      "metadata": {
        "colab": {
          "base_uri": "https://localhost:8080/"
        },
        "id": "GTDYMZc5j43f",
        "outputId": "36cd8558-0259-460b-e868-197aa4c44b5b"
      },
      "source": [
        "from google.colab import drive\n",
        "drive.mount(\"mnt\",force_remount=True)\n",
        "%run '/content/mnt/MyDrive/Colab Notebooks/zoom_speech2text_utility_functions.ipynb'\n",
        "!mkdir ~/.aws\n",
        "!cp /content/mnt/MyDrive/aws.txt ~/.aws/credentials\n",
        "!cp /content/mnt/MyDrive/aws_config.txt ~/.aws/config\n"
      ],
      "execution_count": null,
      "outputs": [
        {
          "output_type": "stream",
          "text": [
            "Mounted at mnt\n",
            "mkdir: cannot create directory ‘/root/.aws’: File exists\n"
          ],
          "name": "stdout"
        }
      ]
    },
    {
      "cell_type": "code",
      "metadata": {
        "id": "TgQsmHxqXhlp"
      },
      "source": [
        "!pip3 install boto3\n",
        "!pip3 install pydub"
      ],
      "execution_count": null,
      "outputs": []
    },
    {
      "cell_type": "code",
      "metadata": {
        "colab": {
          "base_uri": "https://localhost:8080/"
        },
        "id": "VNWgxFQmiBA9",
        "outputId": "76c4d5b3-b6ed-4414-8962-fc6486f3bf5b"
      },
      "source": [
        "import requests\n",
        "import os\n",
        "import time\n",
        "from urllib.parse import urlencode\n",
        "from pydub import AudioSegment\n",
        "import boto3\n",
        "import logging\n",
        "import random\n",
        "from botocore.exceptions import ClientError\n",
        "from google.colab import files\n",
        "\n",
        "\n",
        "meeting_id = input(\"enter the meeting id like 9181716151 : \")\n",
        "recording_date = input(\"enter the recording date like 2021-07-25 : \")\n",
        "base_url = 'https://api.zoom.us/v2/'\n",
        "past_meetings = base_url+'/past_meetings/'\n",
        "get_meeting_url = past_meetings+meeting_id+'/instances'\n",
        "cwd = os.getcwd()\n",
        "print(cwd)\n",
        "\n",
        "#put the auth token for your zoom account\n",
        "auth_token = ''\n",
        "\n",
        "\n",
        "\n",
        "authorization = 'Bearer ' + auth_token\n",
        "auth_headers = {\n",
        "    'Authorization': authorization,\n",
        "    'Content-Type': 'application/json'\n",
        "    }\n",
        "\n",
        "meeting_id_response = requests.get(get_meeting_url,headers=auth_headers)\n",
        "\n",
        "if meeting_id_response.status_code == 200:\n",
        "\n",
        "  for x in meeting_id_response.json()['meetings']:\n",
        "    if recording_date in str(x['start_time']):\n",
        "      print(x)\n",
        "   "
      ],
      "execution_count": null,
      "outputs": [
        {
          "output_type": "stream",
          "text": [
            "enter the meeting id like 9181716151 : 9181716151\n",
            "enter the recording date like 2021-07-25 : 2021-08-01\n",
            "/content\n",
            "{'uuid': 'mE4aQoZXTIq7NogGXmDexg==', 'start_time': '2021-08-01T10:16:30Z'}\n",
            "{'uuid': 'oh5z2OBRS6ekx+a0TosN9w==', 'start_time': '2021-08-01T01:16:06Z'}\n",
            "{'uuid': 'rctMH0vbSdS7pfGlj9y/zw==', 'start_time': '2021-08-01T13:06:36Z'}\n",
            "{'uuid': 'wHc5q3qBT2+RfFdg8Gt9dg==', 'start_time': '2021-08-01T07:16:38Z'}\n"
          ],
          "name": "stdout"
        }
      ]
    },
    {
      "cell_type": "code",
      "metadata": {
        "id": "SfICe1XbjKOa"
      },
      "source": [
        "#based on the above result, please enter the meeting uuid\n",
        "meeting_uuid = input(\"enter the meeting uuid like wHc5q3qBT2+RfFdg8Gt9dg== : \")\n",
        "project_id='bigdata-poc-281913'\n",
        "s3_bucket_name='zoom2021speech2text'\n",
        "key='/content/adc.json'\n",
        "\n",
        "double_encoded_meeting_uuid = double_encode_uuid(meeting_uuid)\n",
        "\n",
        "recording_url='meetings/'+double_encoded_meeting_uuid+'/recordings'\n",
        "final_recording_url=base_url+recording_url\n",
        "\n",
        "recording_response = requests.get(final_recording_url,headers=auth_headers)\n",
        "\n",
        "recording_download_url,start_ts = get_recording_download_url(recording_response.json())\n",
        "download_response = requests.get(recording_download_url)\n",
        "\n",
        "download_file_name=start_ts+\".m4a\"\n",
        "wav_file_name = start_ts+\".wav\"\n",
        "#transcript_file_name = cwd+\"/\"+start_ts+\".txt\"\n",
        "\n",
        "open(download_file_name,'wb').write(download_response.content)\n",
        "print(\"m4a written to local\")\n",
        "\n",
        "input_filepath = cwd+\"/\"+download_file_name\n",
        "wav_filepath = m4a_to_wav(input_filepath)\n",
        "print(\"m4a converted to wav\")\n",
        "\n",
        "\n",
        "is_uploaded = s3_upload_file(wav_file_name,s3_bucket_name)\n",
        "print(\"audio file uploaded to s3\")\n",
        "\n",
        "job_name= \"job_transcribe_\"+wav_file_name.replace(\":\",\"\")+\"_\"+str(random.randint(0,99999))\n",
        "job_uri=\"s3://\"+s3_bucket_name+\"/\"+wav_file_name\n",
        "aws_region=\"ap-south-1\"\n",
        "download_transcribefile_name=\"transcribe_result_\"+start_ts+\"_\"+str(random.randint(0,99999))+\".txt\"\n",
        "\n",
        "if is_uploaded:\n",
        "  transcribe_response = aws_transcribe(job_name,job_uri,aws_region)\n",
        "  print(transcribe_response['TranscriptionJob']['TranscriptionJobStatus'])\n",
        "  if transcribe_response['TranscriptionJob']['TranscriptionJobStatus'] == 'COMPLETED':\n",
        "    transcript_uri=transcribe_response['TranscriptionJob']['Transcript']['TranscriptFileUri']\n",
        "    print(transcript_uri)\n",
        "    transcript_json = requests.get(transcript_uri)\n",
        "    transcribe_content=transcript_json.json()['results']['transcripts'][0]['transcript']\n",
        "    open(download_transcribefile_name,'w+').write(transcribe_content)\n",
        "    files.download(download_transcribefile_name)\n",
        "    print(transcribe_content)\n",
        "    s3_delete_file(s3_bucket_name,wav_file_name)\n",
        "    \n",
        "else:\n",
        "  print(\"file upload to S3 failed\")"
      ],
      "execution_count": null,
      "outputs": []
    }
  ]
}