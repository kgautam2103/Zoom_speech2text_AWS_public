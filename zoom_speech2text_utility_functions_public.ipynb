{
  "nbformat": 4,
  "nbformat_minor": 0,
  "metadata": {
    "colab": {
      "name": "zoom_speech2text_utility_functions_public.ipynb",
      "provenance": [],
      "authorship_tag": "ABX9TyPu9bU2A39Udy4j/gIt3eV3",
      "include_colab_link": true
    },
    "kernelspec": {
      "name": "python3",
      "display_name": "Python 3"
    },
    "language_info": {
      "name": "python"
    }
  },
  "cells": [
    {
      "cell_type": "markdown",
      "metadata": {
        "id": "view-in-github",
        "colab_type": "text"
      },
      "source": [
        "<a href=\"https://colab.research.google.com/github/kgautam2103/Zoom_speech2text_AWS_public/blob/main/zoom_speech2text_utility_functions_public.ipynb\" target=\"_parent\"><img src=\"https://colab.research.google.com/assets/colab-badge.svg\" alt=\"Open In Colab\"/></a>"
      ]
    },
    {
      "cell_type": "code",
      "metadata": {
        "id": "j6RRGstZ4rwH"
      },
      "source": [
        "def frame_rate_channel(audio_file_name):\n",
        "    with wave.open(audio_file_name, \"rb\") as wave_file:\n",
        "        frame_rate = wave_file.getframerate()\n",
        "        channels = wave_file.getnchannels()\n",
        "        return frame_rate,channels"
      ],
      "execution_count": null,
      "outputs": []
    },
    {
      "cell_type": "code",
      "metadata": {
        "id": "yFgYf4Zg4loJ"
      },
      "source": [
        "\n",
        "def stereo_to_mono(audio_file_name):\n",
        "    sound = AudioSegment.from_wav(audio_file_name)\n",
        "    sound = sound.set_channels(1)\n",
        "    sound.export(audio_file_name, format=\"wav\")"
      ],
      "execution_count": null,
      "outputs": []
    },
    {
      "cell_type": "code",
      "metadata": {
        "id": "rst2tQUoYeTh"
      },
      "source": [
        "def double_encode_uuid(meeting_uuid):\n",
        "  encoded_uuid = urlencode({'id':meeting_uuid})\n",
        "  double_encoded_uuid = urlencode({'id':encoded_uuid[3:]})\n",
        "  return double_encoded_uuid[3:]"
      ],
      "execution_count": null,
      "outputs": []
    },
    {
      "cell_type": "code",
      "metadata": {
        "id": "FohOisgHdPpD"
      },
      "source": [
        "def get_recording_download_url(response_json):\n",
        "  for x in response_json['recording_files']:\n",
        "    if x['file_extension']=='M4A':\n",
        "      return x['download_url'],x['recording_start']"
      ],
      "execution_count": null,
      "outputs": []
    },
    {
      "cell_type": "code",
      "metadata": {
        "id": "nIfSavbr8hrL"
      },
      "source": [
        "def m4a_to_wav(input_filepath):\n",
        "  (path, file_extension) = os.path.splitext(input_filepath)\n",
        "  file_extension_final = file_extension.replace('.', '')\n",
        "  track = AudioSegment.from_file(input_filepath,\n",
        "                        file_extension_final)\n",
        "  output_filepath = input_filepath.replace('m4a','wav')\n",
        "  file_handle=track.export(output_filepath, format='wav')\n",
        "  return output_filepath\n",
        "\n"
      ],
      "execution_count": null,
      "outputs": []
    },
    {
      "cell_type": "code",
      "metadata": {
        "id": "uCXdjWY9LhfT"
      },
      "source": [
        "def upload_blob(bucket_name, source_file_name, destination_blob_name):\n",
        "    \"\"\"Uploads a file to the bucket.\"\"\"\n",
        "    storage_client = storage.Client()\n",
        "    bucket = storage_client.get_bucket(bucket_name)\n",
        "    blob = bucket.blob(destination_blob_name)\n",
        "\n",
        "    blob.upload_from_filename(source_file_name)"
      ],
      "execution_count": null,
      "outputs": []
    },
    {
      "cell_type": "code",
      "metadata": {
        "id": "n5gT1E2kLu57"
      },
      "source": [
        "def delete_blob(bucket_name, blob_name):\n",
        "    \"\"\"Deletes a blob from the bucket.\"\"\"\n",
        "    storage_client = storage.Client()\n",
        "    bucket = storage_client.get_bucket(bucket_name)\n",
        "    blob = bucket.blob(blob_name)\n",
        "\n",
        "    blob.delete()"
      ],
      "execution_count": null,
      "outputs": []
    },
    {
      "cell_type": "code",
      "metadata": {
        "id": "0tyJUsOswE6A"
      },
      "source": [
        "def s3_download_file(s3_bucket_name,file_name):\n",
        "  s3 = boto3.resource('s3')\n",
        "\n",
        "  try:\n",
        "      s3.Bucket(s3_bucket_name).download_file(KEY, file_name)\n",
        "  except botocore.exceptions.ClientError as e:\n",
        "      if e.response['Error']['Code'] == \"404\":\n",
        "          print(\"The object does not exist.\")\n",
        "      else:\n",
        "          raise"
      ],
      "execution_count": null,
      "outputs": []
    },
    {
      "cell_type": "code",
      "metadata": {
        "id": "AoDQaZreCC1E"
      },
      "source": [
        "def s3_delete_file(s3_bucket_name,file_name):\n",
        "  s3 = boto3.resource('s3')\n",
        "  try:\n",
        "      s3_obj = s3.Object(s3_bucket_name, file_name)\n",
        "      s3_obj.delete()\n",
        "  except botocore.exceptions.ClientError as e:\n",
        "      if e.response['Error']['Code'] == \"404\":\n",
        "          print(\"The object does not exist.\")\n",
        "      else:\n",
        "          raise"
      ],
      "execution_count": null,
      "outputs": []
    },
    {
      "cell_type": "code",
      "metadata": {
        "id": "I-OkErKpamaC"
      },
      "source": [
        "def s3_upload_file(file_name, bucket, object_name=None):\n",
        "    \"\"\"Upload a file to an S3 bucket\n",
        "\n",
        "    :param file_name: File to upload\n",
        "    :param bucket: Bucket to upload to\n",
        "    :param object_name: S3 object name. If not specified then file_name is used\n",
        "    :return: True if file was uploaded, else False\n",
        "    \"\"\"\n",
        "\n",
        "    # If S3 object_name was not specified, use file_name\n",
        "    if object_name is None:\n",
        "        object_name = file_name\n",
        "\n",
        "    # Upload the file\n",
        "    s3_client = boto3.client('s3')\n",
        "    try:\n",
        "        response = s3_client.upload_file(file_name, bucket, object_name)\n",
        "    except ClientError as e:\n",
        "        logging.error(e)\n",
        "        return False\n",
        "    return True"
      ],
      "execution_count": null,
      "outputs": []
    },
    {
      "cell_type": "code",
      "metadata": {
        "id": "tbqxZweVmf1A"
      },
      "source": [
        "def aws_transcribe(job_name,job_uri,aws_region):\n",
        "  transcribe = boto3.client('transcribe',region_name=aws_region)\n",
        "  transcribe.start_transcription_job(\n",
        "      TranscriptionJobName=job_name,\n",
        "      Media={'MediaFileUri': job_uri},\n",
        "      MediaFormat='wav',\n",
        "      LanguageCode='en-US',\n",
        "      Settings={'ShowSpeakerLabels':True,'MaxSpeakerLabels':4}\n",
        "  )\n",
        "  while True:\n",
        "    status = transcribe.get_transcription_job(TranscriptionJobName=job_name)\n",
        "    if status['TranscriptionJob']['TranscriptionJobStatus'] in ['COMPLETED', 'FAILED']:\n",
        "        break\n",
        "    #print(\"Not ready yet...\")\n",
        "    time.sleep(5)\n",
        "  return status"
      ],
      "execution_count": null,
      "outputs": []
    },
    {
      "cell_type": "code",
      "metadata": {
        "id": "_YIwchI6OAjP"
      },
      "source": [
        "\n",
        "def google_transcribe(cwd,bucket_name,filename):\n",
        "  gcs_uri = 'gs://'+bucket_name+'/'+filename\n",
        "  local_filepath=cwd+'/'+filename\n",
        "  client = speech.SpeechClient()\n",
        "  frame_rate, channels=frame_rate_channel(local_filepath)\n",
        "  print(frame_rate)\n",
        "  print(channels)\n",
        "  audio = {'uri':gcs_uri}\n",
        "  config = {\"encoding\":\"LINEAR16\",\"sample_rate_hertz\":frame_rate,\"language_code\":'en-US',\"alternative_language_codes\":['en-IN','hi-IN'],\n",
        "            \"enable_automatic_punctuation\":True,\"enable_speaker_diarization\":True}\n",
        "\n",
        "  # Detects speech in the audio file\n",
        "  operation = client.long_running_recognize(audio=audio,config=config)\n",
        "  response = operation.result()\n",
        "  transcript=''\n",
        "\n",
        "  for result in response.results:\n",
        "      transcript += result.alternatives[0].transcript\n",
        "\n",
        "  delete_blob(bucket_name, filename)\n",
        "  return transcript"
      ],
      "execution_count": null,
      "outputs": []
    },
    {
      "cell_type": "code",
      "metadata": {
        "id": "DIXmxv7vOchk"
      },
      "source": [
        "def write_transcripts(transcript_filename,transcript):\n",
        "    f= open(transcript_filename,\"w+\")\n",
        "    f.write(transcript)\n",
        "    f.close()"
      ],
      "execution_count": null,
      "outputs": []
    }
  ]
}